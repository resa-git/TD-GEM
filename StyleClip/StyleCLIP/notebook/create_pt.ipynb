{
 "cells": [
  {
   "cell_type": "code",
   "execution_count": 1,
   "id": "1b1d6a44-9fdc-4358-becd-15a63b97ea58",
   "metadata": {},
   "outputs": [
    {
     "name": "stderr",
     "output_type": "stream",
     "text": [
      "/opt/conda/envs/stylehuman/lib/python3.7/site-packages/tqdm/auto.py:22: TqdmWarning: IProgress not found. Please update jupyter and ipywidgets. See https://ipywidgets.readthedocs.io/en/stable/user_install.html\n",
      "  from .autonotebook import tqdm as notebook_tqdm\n"
     ]
    }
   ],
   "source": [
    "import os\n",
    "import torch"
   ]
  },
  {
   "cell_type": "code",
   "execution_count": null,
   "id": "a0bf3920-7b2a-420f-b517-3696675800f5",
   "metadata": {},
   "outputs": [],
   "source": []
  },
  {
   "cell_type": "code",
   "execution_count": 2,
   "id": "233bb3e8-26ee-41f7-b4df-485e3926be16",
   "metadata": {},
   "outputs": [],
   "source": [
    "os.chdir(\"/home/jovyan/work/ML-master/StyleCLIP/StyleCLIP\")"
   ]
  },
  {
   "cell_type": "code",
   "execution_count": 3,
   "id": "7f292d8d-1161-4d97-bd88-262f49786835",
   "metadata": {},
   "outputs": [
    {
     "name": "stderr",
     "output_type": "stream",
     "text": [
      "/opt/conda/envs/stylehuman/lib/python3.7/site-packages/tqdm/auto.py:22: TqdmWarning: IProgress not found. Please update jupyter and ipywidgets. See https://ipywidgets.readthedocs.io/en/stable/user_install.html\n",
      "  from .autonotebook import tqdm as notebook_tqdm\n"
     ]
    }
   ],
   "source": [
    "from mapper.styleclip_mapper import StyleCLIPMapper"
   ]
  },
  {
   "cell_type": "code",
   "execution_count": 24,
   "id": "b8f07261-885d-4ed7-8a36-8f20aa1e30e8",
   "metadata": {},
   "outputs": [],
   "source": [
    "device = torch.device(\"cuda\" if torch.cuda.is_available() else \"cpu\")"
   ]
  },
  {
   "cell_type": "code",
   "execution_count": 6,
   "id": "ff773c34-76f5-4b85-bb06-5a7fc37fbb43",
   "metadata": {},
   "outputs": [],
   "source": [
    "class Namespace:\n",
    "    def __init__(self, **kwargs):\n",
    "        self.__dict__.update(kwargs)"
   ]
  },
  {
   "cell_type": "code",
   "execution_count": null,
   "id": "cad66744-3b22-47b8-bf1c-deeb4fa08587",
   "metadata": {},
   "outputs": [],
   "source": []
  },
  {
   "cell_type": "code",
   "execution_count": 32,
   "id": "d1c64e24-7526-459b-989f-7ce18c3bcbb6",
   "metadata": {},
   "outputs": [],
   "source": [
    "opts = Namespace(work_in_stylespace=False, mapper_type='LevelsMapper', checkpoint_path=None, stylegan_weights='../pretrained_models/stylegan_human_v2_1024.pth',\n",
    "                no_coarse_mapper=False, no_fine_mapper=False, no_medium_mapper=False,\n",
    "                train_dataset_size=4, batch_size=1)"
   ]
  },
  {
   "cell_type": "code",
   "execution_count": null,
   "id": "c4ffca55-3645-4686-a93d-c4044029c041",
   "metadata": {},
   "outputs": [],
   "source": []
  },
  {
   "cell_type": "code",
   "execution_count": null,
   "id": "813850a6-c585-438a-993f-0f4828719750",
   "metadata": {},
   "outputs": [],
   "source": []
  },
  {
   "cell_type": "code",
   "execution_count": 27,
   "id": "b74482b8-6f60-457b-af9b-bf64e4aee49d",
   "metadata": {},
   "outputs": [
    {
     "name": "stdout",
     "output_type": "stream",
     "text": [
      "Loading decoder weights from pretrained!\n"
     ]
    }
   ],
   "source": [
    "device=\"cuda:0\"\n",
    "net = StyleCLIPMapper(opts).to(device)\n",
    "net.latent_avg = net.latent_avg.to(device)"
   ]
  },
  {
   "cell_type": "code",
   "execution_count": 33,
   "id": "dc9e9f14-d0ca-4690-a217-80fa2d8b0750",
   "metadata": {},
   "outputs": [],
   "source": [
    "train_latents_z = torch.randn(opts.train_dataset_size, 512).cuda()"
   ]
  },
  {
   "cell_type": "code",
   "execution_count": 34,
   "id": "b13e055a-6b39-4d2a-a1c7-b98591e1d4f5",
   "metadata": {},
   "outputs": [
    {
     "data": {
      "text/plain": [
       "torch.Size([4, 512])"
      ]
     },
     "execution_count": 34,
     "metadata": {},
     "output_type": "execute_result"
    }
   ],
   "source": [
    "train_latents_z.shape"
   ]
  },
  {
   "cell_type": "code",
   "execution_count": null,
   "id": "7118d898-2293-47dc-bd36-d4a5056743fd",
   "metadata": {},
   "outputs": [],
   "source": []
  },
  {
   "cell_type": "code",
   "execution_count": 46,
   "id": "51ed3925-ac7c-4553-b904-3a4d15cd3a72",
   "metadata": {},
   "outputs": [],
   "source": [
    "train_latents = []\n",
    "for b in range(opts.train_dataset_size // opts.batch_size):\n",
    "    with torch.no_grad():\n",
    "        _, train_latents_b = net.decoder([train_latents_z[b * opts.batch_size: (b + 1) * opts.batch_size]],\n",
    "                                           truncation=0.7, truncation_latent= net.latent_avg, return_latents=True)\n",
    "    train_latents.append(train_latents_b)\n",
    "train_latents = torch.cat(train_latents)"
   ]
  },
  {
   "cell_type": "code",
   "execution_count": 48,
   "id": "63f8e981-2c99-4512-bcad-1fdb90c716af",
   "metadata": {},
   "outputs": [
    {
     "data": {
      "text/plain": [
       "(torch.Size([1, 3, 1024, 512]),\n",
       " torch.Size([1, 18, 512]),\n",
       " torch.Size([4, 18, 512]))"
      ]
     },
     "execution_count": 48,
     "metadata": {},
     "output_type": "execute_result"
    }
   ],
   "source": [
    "ppp.shape, train_latents_b.shape, train_latents.shape"
   ]
  },
  {
   "cell_type": "code",
   "execution_count": null,
   "id": "d37672d9-795a-4819-afec-b4a184a8781c",
   "metadata": {},
   "outputs": [],
   "source": []
  },
  {
   "cell_type": "code",
   "execution_count": null,
   "id": "24ca9694-1485-4d98-a978-d2e76e5ddf74",
   "metadata": {},
   "outputs": [],
   "source": []
  },
  {
   "cell_type": "code",
   "execution_count": null,
   "id": "cfca5745-bbf3-4b5d-86ac-b7f0f5b642aa",
   "metadata": {},
   "outputs": [],
   "source": []
  },
  {
   "cell_type": "code",
   "execution_count": null,
   "id": "62330ea3-5e64-4e64-84b2-c1ae87688696",
   "metadata": {},
   "outputs": [],
   "source": [
    "train_latents_z = torch.randn(self.opts.train_dataset_size, 512).cuda()\n",
    "\n",
    "for b in range(self.opts.train_dataset_size // self.opts.batch_size):\n",
    "    with torch.no_grad():\n",
    "    _, train_latents_b = self.net.decoder([train_latents_z[b * self.opts.batch_size: (b + 1) * self.opts.batch_size]],\n",
    "                 truncation=0.7, truncation_latent=self.net.latent_avg, return_latents=True)\n"
   ]
  },
  {
   "cell_type": "markdown",
   "id": "245964b4-77c2-492e-9110-d3714281cd0f",
   "metadata": {},
   "source": [
    "### change pkl to pth files"
   ]
  },
  {
   "cell_type": "code",
   "execution_count": 1,
   "id": "b0fa75d7",
   "metadata": {},
   "outputs": [
    {
     "name": "stderr",
     "output_type": "stream",
     "text": [
      "/opt/conda/envs/stylehuman/lib/python3.7/site-packages/tqdm/auto.py:22: TqdmWarning: IProgress not found. Please update jupyter and ipywidgets. See https://ipywidgets.readthedocs.io/en/stable/user_install.html\n",
      "  from .autonotebook import tqdm as notebook_tqdm\n"
     ]
    }
   ],
   "source": [
    "import sys\n",
    "sys.path.append('../../../styleGAN-Human/')\n",
    "import legacy"
   ]
  },
  {
   "cell_type": "code",
   "execution_count": 2,
   "id": "891bba60-8b43-4792-9a6d-9db40fcb3feb",
   "metadata": {},
   "outputs": [
    {
     "name": "stdout",
     "output_type": "stream",
     "text": [
      "../../../styleGAN-Human/outputs/ds_2000/checkpoints/model_image_014337.pkl\n"
     ]
    },
    {
     "ename": "PermissionError",
     "evalue": "[Errno 13] Permission denied: 'ori_model_Gonly.txt'",
     "output_type": "error",
     "traceback": [
      "\u001b[0;31m---------------------------------------------------------------------------\u001b[0m",
      "\u001b[0;31mPermissionError\u001b[0m                           Traceback (most recent call last)",
      "\u001b[0;32m/tmp/ipykernel_1652/137856152.py\u001b[0m in \u001b[0;36m<module>\u001b[0;34m\u001b[0m\n\u001b[1;32m      4\u001b[0m     \u001b[0mckpt_path\u001b[0m \u001b[0;34m=\u001b[0m \u001b[0mos\u001b[0m\u001b[0;34m.\u001b[0m\u001b[0mpath\u001b[0m\u001b[0;34m.\u001b[0m\u001b[0mjoin\u001b[0m\u001b[0;34m(\u001b[0m\u001b[0mfold\u001b[0m\u001b[0;34m,\u001b[0m \u001b[0mg\u001b[0m\u001b[0;34m)\u001b[0m\u001b[0;34m\u001b[0m\u001b[0;34m\u001b[0m\u001b[0m\n\u001b[1;32m      5\u001b[0m     \u001b[0mprint\u001b[0m\u001b[0;34m(\u001b[0m\u001b[0mckpt_path\u001b[0m\u001b[0;34m)\u001b[0m\u001b[0;34m\u001b[0m\u001b[0;34m\u001b[0m\u001b[0m\n\u001b[0;32m----> 6\u001b[0;31m     \u001b[0mlegacy\u001b[0m\u001b[0;34m.\u001b[0m\u001b[0mconvert\u001b[0m\u001b[0;34m(\u001b[0m\u001b[0mckpt_path\u001b[0m\u001b[0;34m,\u001b[0m \u001b[0mckpt_path\u001b[0m\u001b[0;34m.\u001b[0m\u001b[0mreplace\u001b[0m\u001b[0;34m(\u001b[0m\u001b[0;34m'.pkl'\u001b[0m\u001b[0;34m,\u001b[0m\u001b[0;34m'.pth'\u001b[0m\u001b[0;34m)\u001b[0m\u001b[0;34m,\u001b[0m \u001b[0mG_only\u001b[0m\u001b[0;34m=\u001b[0m\u001b[0;32mTrue\u001b[0m\u001b[0;34m)\u001b[0m\u001b[0;34m\u001b[0m\u001b[0;34m\u001b[0m\u001b[0m\n\u001b[0m\u001b[1;32m      7\u001b[0m     \u001b[0;32mbreak\u001b[0m\u001b[0;34m\u001b[0m\u001b[0;34m\u001b[0m\u001b[0m\n",
      "\u001b[0;32m~/work/styleGAN-Human/legacy.py\u001b[0m in \u001b[0;36mconvert\u001b[0;34m(network_pkl, output_file, G_only)\u001b[0m\n\u001b[1;32m    161\u001b[0m \u001b[0;32mdef\u001b[0m \u001b[0mconvert\u001b[0m\u001b[0;34m(\u001b[0m\u001b[0mnetwork_pkl\u001b[0m\u001b[0;34m,\u001b[0m \u001b[0moutput_file\u001b[0m\u001b[0;34m,\u001b[0m \u001b[0mG_only\u001b[0m\u001b[0;34m=\u001b[0m\u001b[0;32mFalse\u001b[0m\u001b[0;34m)\u001b[0m\u001b[0;34m:\u001b[0m\u001b[0;34m\u001b[0m\u001b[0;34m\u001b[0m\u001b[0m\n\u001b[1;32m    162\u001b[0m     \u001b[0;32mwith\u001b[0m \u001b[0mdnnlib\u001b[0m\u001b[0;34m.\u001b[0m\u001b[0mutil\u001b[0m\u001b[0;34m.\u001b[0m\u001b[0mopen_url\u001b[0m\u001b[0;34m(\u001b[0m\u001b[0mnetwork_pkl\u001b[0m\u001b[0;34m)\u001b[0m \u001b[0;32mas\u001b[0m \u001b[0mf\u001b[0m\u001b[0;34m:\u001b[0m\u001b[0;34m\u001b[0m\u001b[0;34m\u001b[0m\u001b[0m\n\u001b[0;32m--> 163\u001b[0;31m         \u001b[0mG_nvidia\u001b[0m \u001b[0;34m=\u001b[0m \u001b[0mload_network_pkl\u001b[0m\u001b[0;34m(\u001b[0m\u001b[0mf\u001b[0m\u001b[0;34m,\u001b[0m\u001b[0mG_only\u001b[0m\u001b[0;34m=\u001b[0m\u001b[0mG_only\u001b[0m\u001b[0;34m)\u001b[0m\u001b[0;34m[\u001b[0m\u001b[0;34m'G_ema'\u001b[0m\u001b[0;34m]\u001b[0m\u001b[0;34m\u001b[0m\u001b[0;34m\u001b[0m\u001b[0m\n\u001b[0m\u001b[1;32m    164\u001b[0m \u001b[0;34m\u001b[0m\u001b[0m\n\u001b[1;32m    165\u001b[0m     \u001b[0mstate_nv\u001b[0m \u001b[0;34m=\u001b[0m \u001b[0mG_nvidia\u001b[0m\u001b[0;34m.\u001b[0m\u001b[0mstate_dict\u001b[0m\u001b[0;34m(\u001b[0m\u001b[0;34m)\u001b[0m\u001b[0;34m\u001b[0m\u001b[0;34m\u001b[0m\u001b[0m\n",
      "\u001b[0;32m~/work/styleGAN-Human/legacy.py\u001b[0m in \u001b[0;36mload_network_pkl\u001b[0;34m(f, force_fp16, G_only)\u001b[0m\n\u001b[1;32m     23\u001b[0m     \u001b[0mdata\u001b[0m \u001b[0;34m=\u001b[0m \u001b[0m_LegacyUnpickler\u001b[0m\u001b[0;34m(\u001b[0m\u001b[0mf\u001b[0m\u001b[0;34m)\u001b[0m\u001b[0;34m.\u001b[0m\u001b[0mload\u001b[0m\u001b[0;34m(\u001b[0m\u001b[0;34m)\u001b[0m\u001b[0;34m\u001b[0m\u001b[0;34m\u001b[0m\u001b[0m\n\u001b[1;32m     24\u001b[0m     \u001b[0;32mif\u001b[0m \u001b[0mG_only\u001b[0m\u001b[0;34m:\u001b[0m\u001b[0;34m\u001b[0m\u001b[0;34m\u001b[0m\u001b[0m\n\u001b[0;32m---> 25\u001b[0;31m         \u001b[0mf\u001b[0m \u001b[0;34m=\u001b[0m \u001b[0mopen\u001b[0m\u001b[0;34m(\u001b[0m\u001b[0;34m'ori_model_Gonly.txt'\u001b[0m\u001b[0;34m,\u001b[0m\u001b[0;34m'a+'\u001b[0m\u001b[0;34m)\u001b[0m\u001b[0;34m\u001b[0m\u001b[0;34m\u001b[0m\u001b[0m\n\u001b[0m\u001b[1;32m     26\u001b[0m     \u001b[0;32melse\u001b[0m\u001b[0;34m:\u001b[0m \u001b[0mf\u001b[0m \u001b[0;34m=\u001b[0m \u001b[0mopen\u001b[0m\u001b[0;34m(\u001b[0m\u001b[0;34m'ori_model.txt'\u001b[0m\u001b[0;34m,\u001b[0m\u001b[0;34m'a+'\u001b[0m\u001b[0;34m)\u001b[0m\u001b[0;34m\u001b[0m\u001b[0;34m\u001b[0m\u001b[0m\n\u001b[1;32m     27\u001b[0m     \u001b[0;32mfor\u001b[0m \u001b[0mkey\u001b[0m \u001b[0;32min\u001b[0m \u001b[0mdata\u001b[0m\u001b[0;34m.\u001b[0m\u001b[0mkeys\u001b[0m\u001b[0;34m(\u001b[0m\u001b[0;34m)\u001b[0m\u001b[0;34m:\u001b[0m\u001b[0;34m\u001b[0m\u001b[0;34m\u001b[0m\u001b[0m\n",
      "\u001b[0;31mPermissionError\u001b[0m: [Errno 13] Permission denied: 'ori_model_Gonly.txt'"
     ]
    }
   ],
   "source": [
    "fold = '../../../styleGAN-Human/outputs/ds_2000/checkpoints'\n",
    "Gs = os.listdir(fold)\n",
    "for g in Gs:\n",
    "    ckpt_path = os.path.join(fold, g)\n",
    "    print(ckpt_path)\n",
    "    legacy.convert(ckpt_path, ckpt_path.replace('.pkl','.pth'), G_only=True)\n",
    "    break"
   ]
  },
  {
   "cell_type": "code",
   "execution_count": null,
   "id": "1a706e24-76d5-4916-a94f-f6d54ae95c90",
   "metadata": {},
   "outputs": [],
   "source": []
  }
 ],
 "metadata": {
  "kernelspec": {
   "display_name": "style",
   "language": "python",
   "name": "style"
  },
  "language_info": {
   "codemirror_mode": {
    "name": "ipython",
    "version": 3
   },
   "file_extension": ".py",
   "mimetype": "text/x-python",
   "name": "python",
   "nbconvert_exporter": "python",
   "pygments_lexer": "ipython3",
   "version": "3.7.12 | packaged by conda-forge | (default, Oct 26 2021, 06:08:53) \n[GCC 9.4.0]"
  }
 },
 "nbformat": 4,
 "nbformat_minor": 5
}
