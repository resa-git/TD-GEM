{
 "cells": [
  {
   "cell_type": "code",
   "execution_count": 23,
   "id": "43fb90be-0c84-43a8-b1bd-a866a6848c46",
   "metadata": {},
   "outputs": [],
   "source": [
    "import os"
   ]
  },
  {
   "cell_type": "code",
   "execution_count": 2,
   "id": "e0b1b145-b305-4d58-94a3-43d0be145bae",
   "metadata": {},
   "outputs": [],
   "source": [
    "class Namespace:\n",
    "    def __init__(self, **kwargs):\n",
    "        self.__dict__.update(kwargs)"
   ]
  },
  {
   "cell_type": "code",
   "execution_count": 33,
   "id": "90e9dc38-0cbd-4b8a-b3c8-628c95a0a33b",
   "metadata": {},
   "outputs": [],
   "source": [
    "opts = Namespace(e4e='./pti/e4e_w+.pt',\n",
    "                 stylegan2_ada_shhq='./pretrained_models/stylegan_human_v2_1024.pkl',\n",
    "                 ir_se50= '' ,\n",
    "                 checkpoints_dir='./outputs/ptis/checkpoints', \n",
    "                 embedding_base_dir='./outputs/ptis/embeddings',\n",
    "                 experiments_output_dir='./outputs/ptis',\n",
    "                 input_data_path='./aligned_image/real_image/selected',\n",
    "                 input_data_id='test',\n",
    "                 pti_results_keyword='PTI',\n",
    "                 e4e_results_keyword='e4e',\n",
    "                 sg2_results_keyword='SG2',\n",
    "                 sg2_plus_results_keyword='SG2_Plus',\n",
    "                 multi_id_model_type='multi_id')"
   ]
  },
  {
   "cell_type": "code",
   "execution_count": 34,
   "id": "6ce2a064-1cc3-42c1-9094-8ef6582a861d",
   "metadata": {},
   "outputs": [],
   "source": [
    "def write_path_config(fpath = '', opts=opts):\n",
    "    \n",
    "    lines = ['import os',\n",
    "            '\\n',\n",
    "            '## Pretrained models paths',\n",
    "            f'e4e = \\'{opts.e4e}\\'',\n",
    "            f'stylegan2_ada_shhq = \\'{opts.stylegan2_ada_shhq}\\'',\n",
    "            f'ir_se50 = \\'{opts.ir_se50}\\' #\\'./model_ir_se50.pth\\' ',\n",
    "            '\\n',\n",
    "            '## Dirs for output files',\n",
    "            f'checkpoints_dir = \\'{opts.checkpoints_dir}\\'',\n",
    "            f'embedding_base_dir = \\'{opts.embedding_base_dir}\\'',\n",
    "            f'experiments_output_dir = \\'{opts.experiments_output_dir}\\'',\n",
    "            '\\n',\n",
    "            '## Input info',\n",
    "            '### Input dir, where the images reside',\n",
    "            f'input_data_path = \\'{opts.input_data_path}\\'',\n",
    "            '### Inversion identifier, used to keeping track of the inversion results. Both the latent code and the generator',\n",
    "            f'input_data_id = \\'{opts.input_data_id}\\'',\n",
    "            '\\n',\n",
    "            '## Keywords',\n",
    "            f'pti_results_keyword = \\'{opts.pti_results_keyword}\\'',\n",
    "            f'e4e_results_keyword = \\'{opts.e4e_results_keyword}\\'',\n",
    "            f'sg2_results_keyword = \\'{opts.sg2_results_keyword}\\'', \n",
    "            f'sg2_plus_results_keyword = \\'{opts.sg2_plus_results_keyword}\\'',\n",
    "            f'multi_id_model_type = \\'{opts.multi_id_model_type}\\'']\n",
    "    fname = os.path.join(fpath, \"paths_config.py\")\n",
    "    with open(fname, \"w\") as f:\n",
    "        for l in lines:\n",
    "            f.write(l)\n",
    "            f.write('\\n')"
   ]
  },
  {
   "cell_type": "code",
   "execution_count": 40,
   "id": "f269fa9f-690e-4610-83aa-37302dfff217",
   "metadata": {},
   "outputs": [],
   "source": [
    "## Architechture\n",
    "optf = Namespace(lpips_type = 'alex',\n",
    "                 first_inv_type = 'w+',\n",
    "                 optim_type = 'adam',\n",
    "                latent_ball_num_of_samples = 1,\n",
    "                 locality_regularization_interval = 1,\n",
    "                 use_locality_regularization = False,\n",
    "                 regulizer_l2_lambda = 0.1,\n",
    "                 regulizer_lpips_lambda = 0.1,\n",
    "                 regulizer_alpha = 30,\n",
    "                 pt_l2_lambda = 1,\n",
    "                 pt_lpips_lambda = 1,\n",
    "                 LPIPS_value_threshold = 0.0001,\n",
    "                 max_pti_steps = 14500,\n",
    "                 first_inv_steps = 450,\n",
    "                 max_images_to_invert = 30,\n",
    "                 pti_learning_rate = 5e-4,\n",
    "                 first_inv_lr = 8e-3,\n",
    "                 train_batch_size = 1,\n",
    "                 use_last_w_pivots = False)\n"
   ]
  },
  {
   "cell_type": "code",
   "execution_count": 38,
   "id": "d99f17ca-b112-4112-bb15-37431f5aebe6",
   "metadata": {},
   "outputs": [],
   "source": [
    "def write_hyperparameters(fpath = '', opts=opts):\n",
    "    lines = ['## Architechture',\n",
    "             f'lpips_type = \\'{opts.lpips_type}\\'',\n",
    "             f'first_inv_type = \\'{opts.first_inv_type}\\'',\n",
    "             f'optim_type = \\'{opts.optim_type}\\''\n",
    "             '\\n',\n",
    "             '## Locality regularization',\n",
    "             f'latent_ball_num_of_samples = {opts.latent_ball_num_of_samples}',\n",
    "             f'locality_regularization_interval = {opts.locality_regularization_interval}',\n",
    "             f'use_locality_regularization = {opts.use_locality_regularization}',\n",
    "             f'regulizer_l2_lambda = {opts.regulizer_l2_lambda}',\n",
    "             f'regulizer_lpips_lambda = {opts.regulizer_lpips_lambda}',\n",
    "             f'regulizer_alpha = {opts.regulizer_alpha}',\n",
    "             '\\n',\n",
    "             '## Loss',\n",
    "             f'pt_l2_lambda = {opts.pt_l2_lambda}',\n",
    "             f'pt_lpips_lambda = {opts.pt_lpips_lambda}',\n",
    "             '\\n',\n",
    "             '## Steps',\n",
    "             f'LPIPS_value_threshold = {opts.LPIPS_value_threshold}',\n",
    "             f'max_pti_steps = {opts.max_pti_steps}',\n",
    "             f'first_inv_steps = {opts.first_inv_steps}',\n",
    "             f'max_images_to_invert = {opts.max_images_to_invert}',\n",
    "             '\\n',\n",
    "             '## Optimization',\n",
    "             f'pti_learning_rate = {opts.pti_learning_rate}',\n",
    "             f'first_inv_lr = {opts.first_inv_lr}',\n",
    "             f'train_batch_size = {opts.train_batch_size}',\n",
    "             f'use_last_w_pivots = {opts.use_last_w_pivots}']\n",
    "    fname = os.path.join(fpath, \"hyperparameters.py\")\n",
    "    with open(fname, \"w\") as f:\n",
    "        for l in lines:\n",
    "            f.write(l)\n",
    "            f.write('\\n')"
   ]
  },
  {
   "cell_type": "code",
   "execution_count": null,
   "id": "54e35e95-1618-485f-8b5f-79d4c201156e",
   "metadata": {},
   "outputs": [],
   "source": [
    "#write_path_config(opts=opts)"
   ]
  },
  {
   "cell_type": "code",
   "execution_count": 41,
   "id": "f37d7d5e-ebfa-4856-9b3b-827a2d0536a9",
   "metadata": {},
   "outputs": [],
   "source": [
    "#write_hyperparameters(fpath = '', opts = optf)"
   ]
  },
  {
   "cell_type": "code",
   "execution_count": null,
   "id": "59d897fc-9ec5-4056-83e2-fd23e6caf93c",
   "metadata": {},
   "outputs": [],
   "source": []
  },
  {
   "cell_type": "code",
   "execution_count": null,
   "id": "32dcb73f-ce10-4838-a2e3-b743e5efa673",
   "metadata": {},
   "outputs": [],
   "source": []
  },
  {
   "cell_type": "code",
   "execution_count": null,
   "id": "f120e8c1-31e8-4073-9a59-298ace0d4c42",
   "metadata": {},
   "outputs": [],
   "source": []
  }
 ],
 "metadata": {
  "kernelspec": {
   "display_name": "style",
   "language": "python",
   "name": "style"
  },
  "language_info": {
   "codemirror_mode": {
    "name": "ipython",
    "version": 3
   },
   "file_extension": ".py",
   "mimetype": "text/x-python",
   "name": "python",
   "nbconvert_exporter": "python",
   "pygments_lexer": "ipython3",
   "version": "3.7.12"
  }
 },
 "nbformat": 4,
 "nbformat_minor": 5
}
